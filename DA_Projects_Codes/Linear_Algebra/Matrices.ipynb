{
  "nbformat": 4,
  "nbformat_minor": 0,
  "metadata": {
    "colab": {
      "provenance": [],
      "authorship_tag": "ABX9TyM5jeBlopfgWWFVxc66Zurw",
      "include_colab_link": true
    },
    "kernelspec": {
      "name": "python3",
      "display_name": "Python 3"
    },
    "language_info": {
      "name": "python"
    }
  },
  "cells": [
    {
      "cell_type": "markdown",
      "metadata": {
        "id": "view-in-github",
        "colab_type": "text"
      },
      "source": [
        "<a href=\"https://colab.research.google.com/github/Dharma-Ranganathan/AllAboutPython/blob/main/DA_Projects_Codes/Linear_Algebra/Matrices.ipynb\" target=\"_parent\"><img src=\"https://colab.research.google.com/assets/colab-badge.svg\" alt=\"Open In Colab\"/></a>"
      ]
    },
    {
      "cell_type": "markdown",
      "source": [
        "What is matrix -\n",
        "\n",
        "* Combination of vectors\n",
        "* Consists of rows and columns\n",
        "\n",
        "Why we use matrix -\n",
        "\n",
        "* Reading binaries is in matrices format only\n",
        "* Csv and Excel datasheet contains rows and columns so, matrix is needed for data manipulation and extraction\n",
        "\n",
        "How to use matrix -\n",
        "\n",
        "* Using python libraries like numpy and pandas\n",
        "\n",
        "Let's see further..."
      ],
      "metadata": {
        "id": "g1VwtHMSf6Uy"
      }
    },
    {
      "cell_type": "code",
      "source": [
        "# creating a matrix in manual way\n",
        "\n",
        "matrix_a = [[2,3,4],[5,6,7],[8,9,10]]\n",
        "\n",
        "print(matrix_a)"
      ],
      "metadata": {
        "colab": {
          "base_uri": "https://localhost:8080/"
        },
        "id": "dnlbSkX9grqX",
        "outputId": "d540f927-1755-4f40-cda8-2aa9925c63d4"
      },
      "execution_count": 1,
      "outputs": [
        {
          "output_type": "stream",
          "name": "stdout",
          "text": [
            "[[2, 3, 4], [5, 6, 7], [8, 9, 10]]\n"
          ]
        }
      ]
    },
    {
      "cell_type": "markdown",
      "source": [
        "In above matrix, we have done it in manual with 3 x 3 matrix format\n",
        "\n",
        "3x3 - 3 rows x 3 columns"
      ],
      "metadata": {
        "id": "aplIBTkshAvn"
      }
    },
    {
      "cell_type": "code",
      "source": [
        "# creating a matrix using numpy\n",
        "\n",
        "import numpy as np\n",
        "\n",
        "matrix_b = np.array([[1,2,3],[4,5,6],[7,8,9]])\n",
        "\n",
        "print(matrix_b)"
      ],
      "metadata": {
        "colab": {
          "base_uri": "https://localhost:8080/"
        },
        "id": "va2fnkGWhL6a",
        "outputId": "39bd7ba0-618f-42b2-fbf7-7ab2e4c55796"
      },
      "execution_count": 2,
      "outputs": [
        {
          "output_type": "stream",
          "name": "stdout",
          "text": [
            "[[1 2 3]\n",
            " [4 5 6]\n",
            " [7 8 9]]\n"
          ]
        }
      ]
    },
    {
      "cell_type": "markdown",
      "source": [
        "Same as before matrix, we did 3 x 3 matrix using numpy library"
      ],
      "metadata": {
        "id": "QiVc2c8khgFT"
      }
    },
    {
      "cell_type": "markdown",
      "source": [
        "Now on, we are going to use numpy to make matrices and work with it"
      ],
      "metadata": {
        "id": "nnIL2oMThm9s"
      }
    },
    {
      "cell_type": "code",
      "source": [
        "# create a random matrices\n",
        "\n",
        "matrix_rand = np.random.rand(3,3)\n",
        "\n",
        "print(matrix_rand)"
      ],
      "metadata": {
        "colab": {
          "base_uri": "https://localhost:8080/"
        },
        "id": "MpOyBSE3htC6",
        "outputId": "ce9d1510-d7fb-41b3-b84c-a205b9ebebe7"
      },
      "execution_count": 3,
      "outputs": [
        {
          "output_type": "stream",
          "name": "stdout",
          "text": [
            "[[0.83505761 0.81596768 0.4102362 ]\n",
            " [0.99425895 0.599883   0.68062824]\n",
            " [0.77134286 0.82715833 0.51270292]]\n"
          ]
        }
      ]
    },
    {
      "cell_type": "markdown",
      "source": [
        "Above, np.random.rand(3,3)\n",
        "\n",
        "* random module\n",
        "* rand function\n",
        "* 3,3 - shape of matrix we needed\n",
        "\n",
        "* takes 0 - 1 values randomly and creates matrix"
      ],
      "metadata": {
        "id": "j-vOIMmVh6Iu"
      }
    },
    {
      "cell_type": "code",
      "source": [
        "# creating matrix using randint method\n",
        "\n",
        "matrix_int = np.random.randint(1,100,(3,3))\n",
        "\n",
        "print(matrix_int)"
      ],
      "metadata": {
        "colab": {
          "base_uri": "https://localhost:8080/"
        },
        "id": "GmvxMC5uiO8G",
        "outputId": "c0116ff6-c9be-4160-f4ae-26e8a241b353"
      },
      "execution_count": 4,
      "outputs": [
        {
          "output_type": "stream",
          "name": "stdout",
          "text": [
            "[[77 71 54]\n",
            " [59 69  3]\n",
            " [19 84 17]]\n"
          ]
        }
      ]
    },
    {
      "cell_type": "markdown",
      "source": [
        "Above, np.random.randint(1,100,(3,3))\n",
        "\n",
        "* 1 - value starts from\n",
        "* 100 - value ends to\n",
        "* (3,3) - shape of matrix - 3x3 matrix"
      ],
      "metadata": {
        "id": "1r_rbHdkihrp"
      }
    },
    {
      "cell_type": "code",
      "source": [
        "# checking shape of matrix for before one\n",
        "\n",
        "matrix_int.shape"
      ],
      "metadata": {
        "colab": {
          "base_uri": "https://localhost:8080/"
        },
        "id": "yNh1h4nJiy-X",
        "outputId": "5064ffca-1a48-4673-8a5a-eff74252b40e"
      },
      "execution_count": 5,
      "outputs": [
        {
          "output_type": "execute_result",
          "data": {
            "text/plain": [
              "(3, 3)"
            ]
          },
          "metadata": {},
          "execution_count": 5
        }
      ]
    },
    {
      "cell_type": "code",
      "source": [
        "# creating null matrix\n",
        "\n",
        "matrix_null = np.zeros((3,3))\n",
        "\n",
        "print(matrix_null)"
      ],
      "metadata": {
        "colab": {
          "base_uri": "https://localhost:8080/"
        },
        "id": "xIXH84xei8gj",
        "outputId": "57e3107b-1eae-4bac-b370-eab495071000"
      },
      "execution_count": 7,
      "outputs": [
        {
          "output_type": "stream",
          "name": "stdout",
          "text": [
            "[[0. 0. 0.]\n",
            " [0. 0. 0.]\n",
            " [0. 0. 0.]]\n"
          ]
        }
      ]
    },
    {
      "cell_type": "markdown",
      "source": [
        "Above, np.zeros((3,3))\n",
        "\n",
        "* zeros() function\n",
        "* (3,3) - shape of matrix\n",
        "* returns values in float value"
      ],
      "metadata": {
        "id": "FhIJxUkejma9"
      }
    },
    {
      "cell_type": "code",
      "source": [
        "# creating null matrix with int type\n",
        "\n",
        "matrix_null_int = np.zeros((3,3),dtype=int)\n",
        "\n",
        "print(matrix_null_int)"
      ],
      "metadata": {
        "colab": {
          "base_uri": "https://localhost:8080/"
        },
        "id": "MXi64nfJjzt8",
        "outputId": "770e4768-2e84-49a9-e45b-10e39e957012"
      },
      "execution_count": 8,
      "outputs": [
        {
          "output_type": "stream",
          "name": "stdout",
          "text": [
            "[[0 0 0]\n",
            " [0 0 0]\n",
            " [0 0 0]]\n"
          ]
        }
      ]
    },
    {
      "cell_type": "markdown",
      "source": [
        "Above, np.zeros((3,3),dtype=int)\n",
        "\n",
        "* (3,3) - shape of matrix\n",
        "* dtype = int - converts values/elements in int type"
      ],
      "metadata": {
        "id": "OVLxb7TskFr8"
      }
    },
    {
      "cell_type": "code",
      "source": [
        "# creating identity matrix\n",
        "\n",
        "matrix_eye = np.eye(3,3,dtype=int)\n",
        "\n",
        "print(matrix_eye)"
      ],
      "metadata": {
        "colab": {
          "base_uri": "https://localhost:8080/"
        },
        "id": "GHkStj_rkUFw",
        "outputId": "9643b262-3fcf-4267-f44d-3cb240fe0584"
      },
      "execution_count": 18,
      "outputs": [
        {
          "output_type": "stream",
          "name": "stdout",
          "text": [
            "[[1 0 0]\n",
            " [0 1 0]\n",
            " [0 0 1]]\n"
          ]
        }
      ]
    },
    {
      "cell_type": "markdown",
      "source": [
        "Above, np.eye(3,3,dtype=int)\n",
        "\n",
        "* 3,3 - shape of matrix\n",
        "* dtype - int type\n",
        "* eye() - method to create identity matrix - diagonally presence of 1 in matrix according to given shape"
      ],
      "metadata": {
        "id": "zvPLGhjFk8wW"
      }
    },
    {
      "cell_type": "code",
      "source": [
        "# checking shape and dimension of matrix_int\n",
        "\n",
        "print(matrix_int.shape)\n",
        "print(matrix_int.ndim)"
      ],
      "metadata": {
        "colab": {
          "base_uri": "https://localhost:8080/"
        },
        "id": "Z98pnhDolSY3",
        "outputId": "86577460-2b29-4420-8667-04223b743edc"
      },
      "execution_count": 22,
      "outputs": [
        {
          "output_type": "stream",
          "name": "stdout",
          "text": [
            "(3, 3)\n",
            "2\n"
          ]
        }
      ]
    },
    {
      "cell_type": "markdown",
      "source": [
        "Above,\n",
        "* shape - class variable - returns shape of matrix\n",
        "* ndim - class variable - returns no of dimensions"
      ],
      "metadata": {
        "id": "2JY3pJ4UlmfH"
      }
    },
    {
      "cell_type": "code",
      "source": [
        "# matrix operations - addition\n",
        "\n",
        "A = np.random.randint(1,10,(2,2))\n",
        "B = np.random.randint(1,10,(2,2))\n",
        "\n",
        "print(\"A:\",A)\n",
        "print(\"B:\",B)\n",
        "print()\n",
        "\n",
        "# addition - manual way\n",
        "\n",
        "print(A+B)\n",
        "print()\n",
        "\n",
        "# addition - using numpy\n",
        "\n",
        "C = np.add(A,B)\n",
        "print(C)\n",
        "print()"
      ],
      "metadata": {
        "colab": {
          "base_uri": "https://localhost:8080/"
        },
        "id": "I_3v05DEl1HC",
        "outputId": "8a907b43-125a-4a06-f630-93fbc9290981"
      },
      "execution_count": 27,
      "outputs": [
        {
          "output_type": "stream",
          "name": "stdout",
          "text": [
            "A: [[3 8]\n",
            " [3 1]]\n",
            "B: [[3 1]\n",
            " [9 5]]\n",
            "\n",
            "[[ 6  9]\n",
            " [12  6]]\n",
            "\n",
            "[[ 6  9]\n",
            " [12  6]]\n",
            "\n"
          ]
        }
      ]
    },
    {
      "cell_type": "markdown",
      "source": [
        "Above, we can do some mathematical operations in matrix\n",
        "\n",
        "* Addition in manual way\n",
        "* Addition using numpy methods - add()\n",
        "\n",
        "* Note : when we do some operations like add, sub, mul, div - make sure to have same shape of matrix to two matrices.\n",
        "\n",
        "* Methods we have, add(), subtract(), multiply(), divide()"
      ],
      "metadata": {
        "id": "s87GEoV9nNoH"
      }
    },
    {
      "cell_type": "code",
      "source": [
        "# Subtraction\n",
        "\n",
        "# subtraction - manual way\n",
        "\n",
        "print(A-B)\n",
        "print()\n",
        "\n",
        "# subtraction - using numpy\n",
        "\n",
        "D = np.subtract(A,B)\n",
        "print(D)"
      ],
      "metadata": {
        "colab": {
          "base_uri": "https://localhost:8080/"
        },
        "id": "3zjslg1tnlgg",
        "outputId": "b111ead4-7ee5-4088-8e51-06cb70765312"
      },
      "execution_count": 28,
      "outputs": [
        {
          "output_type": "stream",
          "name": "stdout",
          "text": [
            "[[ 0  7]\n",
            " [-6 -4]]\n",
            "\n",
            "[[ 0  7]\n",
            " [-6 -4]]\n"
          ]
        }
      ]
    },
    {
      "cell_type": "code",
      "source": [
        "# Multiplication\n",
        "\n",
        "# multiplication - manual way\n",
        "\n",
        "print(A*B)\n",
        "print()\n",
        "\n",
        "# multiplication - using numpy\n",
        "\n",
        "E = np.multiply(A,B)\n",
        "print(E)"
      ],
      "metadata": {
        "colab": {
          "base_uri": "https://localhost:8080/"
        },
        "id": "qcMojDRWn61H",
        "outputId": "89194ea7-fd5e-4721-b6aa-57642a5ff926"
      },
      "execution_count": 29,
      "outputs": [
        {
          "output_type": "stream",
          "name": "stdout",
          "text": [
            "[[ 9  8]\n",
            " [27  5]]\n",
            "\n",
            "[[ 9  8]\n",
            " [27  5]]\n"
          ]
        }
      ]
    },
    {
      "cell_type": "code",
      "source": [
        "# Division\n",
        "\n",
        "# division - manual way\n",
        "\n",
        "print(A/B)\n",
        "print()\n",
        "\n",
        "# division - using numpy\n",
        "\n",
        "F = np.divide(A,B)\n",
        "print(F)"
      ],
      "metadata": {
        "colab": {
          "base_uri": "https://localhost:8080/"
        },
        "id": "jWGLojo0oaF3",
        "outputId": "bc5ecd74-58d0-4f07-ecfb-637c4751fc05"
      },
      "execution_count": 30,
      "outputs": [
        {
          "output_type": "stream",
          "name": "stdout",
          "text": [
            "[[1.         8.        ]\n",
            " [0.33333333 0.2       ]]\n",
            "\n",
            "[[1.         8.        ]\n",
            " [0.33333333 0.2       ]]\n"
          ]
        }
      ]
    },
    {
      "cell_type": "markdown",
      "source": [
        "So far, we've done some mathematical operations between two matrices, now we are gonna approach with vectors and scalar to matrix operations.\n",
        "\n",
        "Let's try..."
      ],
      "metadata": {
        "id": "rbTSlwq5or3D"
      }
    },
    {
      "cell_type": "code",
      "source": [
        "# multiplication of matrix with scalar\n",
        "\n",
        "# simply increase the matrix\n",
        "\n",
        "matrix_mul = np.random.randint(1,3,(2,2))\n",
        "\n",
        "# scalar value\n",
        "\n",
        "scal_a = 2\n",
        "\n",
        "# before\n",
        "\n",
        "print(\"matrix :\",matrix_mul)\n",
        "print()\n",
        "\n",
        "print(\"scalar :\",scal_a)\n",
        "print()\n",
        "\n",
        "# after\n",
        "\n",
        "G = np.multiply(matrix_mul,scal_a)\n",
        "print(G)"
      ],
      "metadata": {
        "colab": {
          "base_uri": "https://localhost:8080/"
        },
        "id": "DZq6jOsDo5Ef",
        "outputId": "db427751-d6a5-46be-c3fa-df4895463e8a"
      },
      "execution_count": 44,
      "outputs": [
        {
          "output_type": "stream",
          "name": "stdout",
          "text": [
            "matrix : [[2 1]\n",
            " [1 2]]\n",
            "\n",
            "scalar : 2\n",
            "\n",
            "[[4 2]\n",
            " [2 4]]\n"
          ]
        }
      ]
    },
    {
      "cell_type": "markdown",
      "source": [
        "Above ,\n",
        "\n",
        "* Scalar - singly magnitude value without directions\n",
        "\n",
        "* Vector - both magnitude and direction enabled values\n",
        "\n",
        "Scalar = 45\n",
        "\n",
        "Vector = [1,2,3] - 3 columns / 1 row\n",
        "* Either 1 row / n columns\n",
        "* Or n rows / 1 column\n",
        "\n",
        "Matrix = n columns and n rows\n",
        "\n",
        "Operations - matrix with scalar\n",
        "* Returns matrix only\n",
        "\n",
        "Operations - matrix with vector\n",
        "* Returns matrix only"
      ],
      "metadata": {
        "id": "yVsF0EFXqrLF"
      }
    },
    {
      "cell_type": "code",
      "source": [
        "# multiplication - matrix with vector\n",
        "\n",
        "matrix_mul_1 = np.random.randint(1,3,(2,2))\n",
        "\n",
        "print(\"matrix :\",matrix_mul_1)\n",
        "\n",
        "# vector - taking n_rows / 1 column\n",
        "\n",
        "vector = np.array([[23],[34],[45]])\n",
        "\n",
        "# multiplication\n",
        "\n",
        "mul = np.multiply(matrix_mul_1,vector)\n",
        "print(mul)"
      ],
      "metadata": {
        "colab": {
          "base_uri": "https://localhost:8080/",
          "height": 404
        },
        "id": "QrTcdC3hrd4k",
        "outputId": "43395a00-d611-4738-ee67-dfb3561bd7e0"
      },
      "execution_count": 47,
      "outputs": [
        {
          "output_type": "stream",
          "name": "stdout",
          "text": [
            "matrix : [[2 1]\n",
            " [2 1]]\n"
          ]
        },
        {
          "output_type": "error",
          "ename": "ValueError",
          "evalue": "operands could not be broadcast together with shapes (2,2) (3,1) ",
          "traceback": [
            "\u001b[0;31m---------------------------------------------------------------------------\u001b[0m",
            "\u001b[0;31mValueError\u001b[0m                                Traceback (most recent call last)",
            "\u001b[0;32m/tmp/ipython-input-3712655598.py\u001b[0m in \u001b[0;36m<cell line: 0>\u001b[0;34m()\u001b[0m\n\u001b[1;32m     11\u001b[0m \u001b[0;31m# multiplication\u001b[0m\u001b[0;34m\u001b[0m\u001b[0;34m\u001b[0m\u001b[0m\n\u001b[1;32m     12\u001b[0m \u001b[0;34m\u001b[0m\u001b[0m\n\u001b[0;32m---> 13\u001b[0;31m \u001b[0mmul\u001b[0m \u001b[0;34m=\u001b[0m \u001b[0mnp\u001b[0m\u001b[0;34m.\u001b[0m\u001b[0mmultiply\u001b[0m\u001b[0;34m(\u001b[0m\u001b[0mmatrix_mul_1\u001b[0m\u001b[0;34m,\u001b[0m\u001b[0mvector\u001b[0m\u001b[0;34m)\u001b[0m\u001b[0;34m\u001b[0m\u001b[0;34m\u001b[0m\u001b[0m\n\u001b[0m\u001b[1;32m     14\u001b[0m \u001b[0mprint\u001b[0m\u001b[0;34m(\u001b[0m\u001b[0mmul\u001b[0m\u001b[0;34m)\u001b[0m\u001b[0;34m\u001b[0m\u001b[0;34m\u001b[0m\u001b[0m\n",
            "\u001b[0;31mValueError\u001b[0m: operands could not be broadcast together with shapes (2,2) (3,1) "
          ]
        }
      ]
    },
    {
      "cell_type": "markdown",
      "source": [
        "Above, when we do some operations between matrix and vectors, do before doing this,\n",
        "\n",
        "Matrix shape - 2,2\n",
        "\n",
        "Vector shape - 3,1\n",
        "\n",
        "Doing operations:\n",
        "Make sure you have, columns of matrix is equal to rows of vectors.\n",
        "\n",
        "Same for between two matrices\n",
        "\n",
        "Make sure you have, columns of one matrix is equal to rows of another matrix."
      ],
      "metadata": {
        "id": "k-hXNyZTta5i"
      }
    },
    {
      "cell_type": "code",
      "source": [
        "# after understanding rule\n",
        "\n",
        "matrix_mul_2 = np.random.randint(1,3,(2,2))\n",
        "\n",
        "# matrix shape\n",
        "\n",
        "print(matrix_mul_2.shape)\n",
        "print(\"matrix :\",matrix_mul_2)\n",
        "print()\n",
        "\n",
        "# vector\n",
        "vector_1 = np.array([[23],[34]])\n",
        "\n",
        "# vector shape\n",
        "\n",
        "print(vector_1.shape)\n",
        "print(\"vector :\",vector_1)\n",
        "print()\n",
        "\n",
        "# multiplication\n",
        "\n",
        "H = np.multiply(matrix_mul_2,vector_1)\n",
        "print(H)"
      ],
      "metadata": {
        "colab": {
          "base_uri": "https://localhost:8080/"
        },
        "id": "TpEUknlhuHof",
        "outputId": "b0c2f08a-535d-43a3-fddb-bd850acc880a"
      },
      "execution_count": 49,
      "outputs": [
        {
          "output_type": "stream",
          "name": "stdout",
          "text": [
            "(2, 2)\n",
            "matrix : [[1 2]\n",
            " [1 1]]\n",
            "\n",
            "(2, 1)\n",
            "vector : [[23]\n",
            " [34]]\n",
            "\n",
            "[[23 46]\n",
            " [34 34]]\n"
          ]
        }
      ]
    },
    {
      "cell_type": "markdown",
      "source": [
        "You may notice, columns of matrix is same as rows of vectors / matrix..."
      ],
      "metadata": {
        "id": "zaW2Ri45vEhi"
      }
    },
    {
      "cell_type": "markdown",
      "source": [
        "Transpose of matrix:"
      ],
      "metadata": {
        "id": "E3HpQshwvsRD"
      }
    },
    {
      "cell_type": "code",
      "source": [
        "# transpose of matrix\n",
        "matrix = np.random.randint(1,100,(5,5))\n",
        "\n",
        "# before\n",
        "print(matrix)\n",
        "print()\n",
        "\n",
        "# after\n",
        "trans_matrix = np.transpose(matrix)\n",
        "print(trans_matrix)"
      ],
      "metadata": {
        "colab": {
          "base_uri": "https://localhost:8080/"
        },
        "id": "ydXSNi1avvov",
        "outputId": "bed12fe4-391f-41cd-8152-a985cb23d8a1"
      },
      "execution_count": 50,
      "outputs": [
        {
          "output_type": "stream",
          "name": "stdout",
          "text": [
            "[[45 84 98 57  1]\n",
            " [17 53 72 23 55]\n",
            " [73 40 88 87 76]\n",
            " [46 38  9 69 10]\n",
            " [ 6 84 54 21 79]]\n",
            "\n",
            "[[45 17 73 46  6]\n",
            " [84 53 40 38 84]\n",
            " [98 72 88  9 54]\n",
            " [57 23 87 69 21]\n",
            " [ 1 55 76 10 79]]\n"
          ]
        }
      ]
    },
    {
      "cell_type": "markdown",
      "source": [
        "Transpose :\n",
        "\n",
        "Which means rows transform into columns and columns transform into rows"
      ],
      "metadata": {
        "id": "riNiyOhNwPDL"
      }
    },
    {
      "cell_type": "markdown",
      "source": [
        "Last, multiplication of two matrices\n",
        "\n",
        "As told previously, columns of one matrix is equal to rows of another matrix is needed."
      ],
      "metadata": {
        "id": "XDAt9xkbwi5S"
      }
    },
    {
      "cell_type": "code",
      "source": [
        "# multiplication of two matrices\n",
        "\n",
        "Ab = np.random.randint(1,100,(2,2))\n",
        "Bc = np.random.randint(1,100,(2,2))\n",
        "\n",
        "# before\n",
        "print(Ab)\n",
        "print()\n",
        "print(Bc)\n",
        "print()\n",
        "\n",
        "# after - normal multiplication\n",
        "X = np.multiply(Ab,Bc)\n",
        "print(X)"
      ],
      "metadata": {
        "colab": {
          "base_uri": "https://localhost:8080/"
        },
        "id": "6mZNyK-lwuF_",
        "outputId": "e0db3c04-f54f-4213-d518-44877cbd7e60"
      },
      "execution_count": 57,
      "outputs": [
        {
          "output_type": "stream",
          "name": "stdout",
          "text": [
            "[[18 57]\n",
            " [79 64]]\n",
            "\n",
            "[[58 61]\n",
            " [88 25]]\n",
            "\n",
            "[[1044 3477]\n",
            " [6952 1600]]\n",
            "\n",
            "[[ 6060  2523]\n",
            " [10214  6419]]\n"
          ]
        }
      ]
    },
    {
      "cell_type": "markdown",
      "source": [
        "On multiplying two matrices , we get element wise multiplication - returns 3rd output.\n",
        "\n",
        "Thank you ..."
      ],
      "metadata": {
        "id": "D8HIa0ioyqHN"
      }
    }
  ]
}