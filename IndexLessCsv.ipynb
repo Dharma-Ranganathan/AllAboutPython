{
  "nbformat": 4,
  "nbformat_minor": 0,
  "metadata": {
    "colab": {
      "provenance": [],
      "authorship_tag": "ABX9TyMaCTP0h67wflWzozOqcNKY",
      "include_colab_link": true
    },
    "kernelspec": {
      "name": "python3",
      "display_name": "Python 3"
    },
    "language_info": {
      "name": "python"
    }
  },
  "cells": [
    {
      "cell_type": "markdown",
      "metadata": {
        "id": "view-in-github",
        "colab_type": "text"
      },
      "source": [
        "<a href=\"https://colab.research.google.com/github/Dharma-Ranganathan/AllAboutPython/blob/main/IndexLessCsv.ipynb\" target=\"_parent\"><img src=\"https://colab.research.google.com/assets/colab-badge.svg\" alt=\"Open In Colab\"/></a>"
      ]
    },
    {
      "cell_type": "markdown",
      "source": [
        "Df to CSV using in-built dataset"
      ],
      "metadata": {
        "id": "s9XIkAKkONbo"
      }
    },
    {
      "cell_type": "code",
      "source": [
        "from sklearn.datasets import load_iris\n",
        "import pandas as pd\n",
        "datas = load_iris()\n",
        "iris_df = pd.DataFrame(datas.data)\n",
        "iris_df.to_csv('iris_df.csv')"
      ],
      "metadata": {
        "id": "3Sj-23IQOW2i"
      },
      "execution_count": null,
      "outputs": []
    }
  ]
}