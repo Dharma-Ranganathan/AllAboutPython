{
  "nbformat": 4,
  "nbformat_minor": 0,
  "metadata": {
    "colab": {
      "provenance": [],
      "authorship_tag": "ABX9TyOjyd/q1PmCaLutWF8hBS2q",
      "include_colab_link": true
    },
    "kernelspec": {
      "name": "python3",
      "display_name": "Python 3"
    },
    "language_info": {
      "name": "python"
    }
  },
  "cells": [
    {
      "cell_type": "markdown",
      "metadata": {
        "id": "view-in-github",
        "colab_type": "text"
      },
      "source": [
        "<a href=\"https://colab.research.google.com/github/Dharma-Ranganathan/AllAboutPython/blob/main/LabelEncoding.ipynb\" target=\"_parent\"><img src=\"https://colab.research.google.com/assets/colab-badge.svg\" alt=\"Open In Colab\"/></a>"
      ]
    },
    {
      "cell_type": "markdown",
      "source": [
        "Label Encoding - converts categorical data to continuous data"
      ],
      "metadata": {
        "id": "4w8_m_M1B_Io"
      }
    },
    {
      "cell_type": "code",
      "source": [
        "# importing reliable libraries\n",
        "\n",
        "import pandas as pd\n",
        "import seaborn as sns\n",
        "from sklearn.preprocessing import LabelEncoder\n",
        "\n",
        "# loading dataset\n",
        "\n",
        "iris = sns.load_dataset('iris')\n",
        "print(iris.value_counts('species'))\n",
        "\n",
        "# Label Encoding - 'species' - to number\n",
        "\n",
        "labels = LabelEncoder()\n",
        "\n",
        "# converting\n",
        "species = labels.fit_transform(iris.species)\n",
        "\n",
        "#checking\n",
        "iris['species'] = species\n",
        "\n",
        "\"\"\"\n",
        "\n",
        "Label Encoder fits the data and transform the\n",
        "data into alphabetical order, maps from 0 to any number\n",
        "to data points given\n",
        "\n",
        "Alphabetical order = setosa, versicolor, virginica\n",
        "\n",
        "setosa - 0\n",
        "versicolor - 1\n",
        "virginica - 2\n",
        "\n",
        "\"\"\"\n",
        "# processed\n",
        "\n",
        "print(iris.value_counts('species'))"
      ],
      "metadata": {
        "colab": {
          "base_uri": "https://localhost:8080/"
        },
        "id": "kMShS05PCGSb",
        "outputId": "62dd351d-5f34-4c3f-8e4a-d5ab1a55d0c6"
      },
      "execution_count": 3,
      "outputs": [
        {
          "output_type": "stream",
          "name": "stdout",
          "text": [
            "species\n",
            "setosa        50\n",
            "versicolor    50\n",
            "virginica     50\n",
            "Name: count, dtype: int64\n",
            "species\n",
            "0    50\n",
            "1    50\n",
            "2    50\n",
            "Name: count, dtype: int64\n"
          ]
        }
      ]
    }
  ]
}